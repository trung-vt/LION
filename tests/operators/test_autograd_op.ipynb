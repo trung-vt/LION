{
 "cells": [
  {
   "cell_type": "code",
   "execution_count": 2,
   "metadata": {},
   "outputs": [
    {
     "ename": "ImportError",
     "evalue": "libcudart.so.12: cannot open shared object file: No such file or directory",
     "output_type": "error",
     "traceback": [
      "\u001b[31m---------------------------------------------------------------------------\u001b[39m",
      "\u001b[31mImportError\u001b[39m                               Traceback (most recent call last)",
      "\u001b[36mCell\u001b[39m\u001b[36m \u001b[39m\u001b[32mIn[2]\u001b[39m\u001b[32m, line 1\u001b[39m\n\u001b[32m----> \u001b[39m\u001b[32m1\u001b[39m \u001b[38;5;28;01mfrom\u001b[39;00m\u001b[38;5;250m \u001b[39m\u001b[34;01mtomosipo\u001b[39;00m\u001b[34;01m.\u001b[39;00m\u001b[34;01mtorch_support\u001b[39;00m\u001b[38;5;250m \u001b[39m\u001b[38;5;28;01mimport\u001b[39;00m to_autograd\n\u001b[32m      2\u001b[39m \u001b[38;5;28;01mimport\u001b[39;00m\u001b[38;5;250m \u001b[39m\u001b[34;01mtorch\u001b[39;00m\n\u001b[32m      4\u001b[39m \u001b[38;5;28;01mfrom\u001b[39;00m\u001b[38;5;250m \u001b[39m\u001b[34;01mLION\u001b[39;00m\u001b[34;01m.\u001b[39;00m\u001b[34;01mCTtools\u001b[39;00m\u001b[34;01m.\u001b[39;00m\u001b[34;01mct_geometry\u001b[39;00m\u001b[38;5;250m \u001b[39m\u001b[38;5;28;01mimport\u001b[39;00m Geometry\n",
      "\u001b[36mFile \u001b[39m\u001b[32m~/miniconda3/envs/lion_pip_2/lib/python3.12/site-packages/tomosipo/__init__.py:10\u001b[39m\n\u001b[32m      7\u001b[39m \u001b[38;5;66;03m# Also edit the version in setup.py!\u001b[39;00m\n\u001b[32m      8\u001b[39m __version__ = \u001b[33m\"\u001b[39m\u001b[33m0.7.0\u001b[39m\u001b[33m\"\u001b[39m\n\u001b[32m---> \u001b[39m\u001b[32m10\u001b[39m \u001b[38;5;28;01mfrom\u001b[39;00m\u001b[38;5;250m \u001b[39m\u001b[34;01m.\u001b[39;00m\u001b[34;01mOperator\u001b[39;00m\u001b[38;5;250m \u001b[39m\u001b[38;5;28;01mimport\u001b[39;00m operator\n\u001b[32m     11\u001b[39m \u001b[38;5;28;01mfrom\u001b[39;00m\u001b[38;5;250m \u001b[39m\u001b[34;01m.\u001b[39;00m\u001b[34;01mData\u001b[39;00m\u001b[38;5;250m \u001b[39m\u001b[38;5;28;01mimport\u001b[39;00m data\n\u001b[32m     12\u001b[39m \u001b[38;5;28;01mfrom\u001b[39;00m\u001b[38;5;250m \u001b[39m\u001b[34;01m.\u001b[39;00m\u001b[34;01mgeometry\u001b[39;00m\u001b[34;01m.\u001b[39;00m\u001b[34;01mvolume\u001b[39;00m\u001b[38;5;250m \u001b[39m\u001b[38;5;28;01mimport\u001b[39;00m volume\n",
      "\u001b[36mFile \u001b[39m\u001b[32m~/miniconda3/envs/lion_pip_2/lib/python3.12/site-packages/tomosipo/Operator.py:3\u001b[39m\n\u001b[32m      1\u001b[39m \u001b[38;5;28;01mimport\u001b[39;00m\u001b[38;5;250m \u001b[39m\u001b[34;01mnumpy\u001b[39;00m\u001b[38;5;250m \u001b[39m\u001b[38;5;28;01mas\u001b[39;00m\u001b[38;5;250m \u001b[39m\u001b[34;01mnp\u001b[39;00m\n\u001b[32m      2\u001b[39m \u001b[38;5;28;01mimport\u001b[39;00m\u001b[38;5;250m \u001b[39m\u001b[34;01mtomosipo\u001b[39;00m\u001b[38;5;250m \u001b[39m\u001b[38;5;28;01mas\u001b[39;00m\u001b[38;5;250m \u001b[39m\u001b[34;01mts\u001b[39;00m\n\u001b[32m----> \u001b[39m\u001b[32m3\u001b[39m \u001b[38;5;28;01mfrom\u001b[39;00m\u001b[38;5;250m \u001b[39m\u001b[34;01mtomosipo\u001b[39;00m\u001b[34;01m.\u001b[39;00m\u001b[34;01mData\u001b[39;00m\u001b[38;5;250m \u001b[39m\u001b[38;5;28;01mimport\u001b[39;00m Data\n\u001b[32m      4\u001b[39m \u001b[38;5;28;01mfrom\u001b[39;00m\u001b[38;5;250m \u001b[39m\u001b[34;01mtomosipo\u001b[39;00m\u001b[34;01m.\u001b[39;00m\u001b[34;01mastra\u001b[39;00m\u001b[38;5;250m \u001b[39m\u001b[38;5;28;01mimport\u001b[39;00m (\n\u001b[32m      5\u001b[39m     create_astra_projector,\n\u001b[32m      6\u001b[39m     direct_fp,\n\u001b[32m      7\u001b[39m     direct_bp,\n\u001b[32m      8\u001b[39m )\n\u001b[32m     11\u001b[39m \u001b[38;5;28;01mdef\u001b[39;00m\u001b[38;5;250m \u001b[39m\u001b[34mto_astra_compatible_operator_geometry\u001b[39m(vg, pg):\n",
      "\u001b[36mFile \u001b[39m\u001b[32m~/miniconda3/envs/lion_pip_2/lib/python3.12/site-packages/tomosipo/Data.py:1\u001b[39m\n\u001b[32m----> \u001b[39m\u001b[32m1\u001b[39m \u001b[38;5;28;01mimport\u001b[39;00m\u001b[38;5;250m \u001b[39m\u001b[34;01mastra\u001b[39;00m\n\u001b[32m      2\u001b[39m \u001b[38;5;28;01mimport\u001b[39;00m\u001b[38;5;250m \u001b[39m\u001b[34;01mtomosipo\u001b[39;00m\u001b[38;5;250m \u001b[39m\u001b[38;5;28;01mas\u001b[39;00m\u001b[38;5;250m \u001b[39m\u001b[34;01mts\u001b[39;00m\n\u001b[32m      5\u001b[39m \u001b[38;5;28;01mdef\u001b[39;00m\u001b[38;5;250m \u001b[39m\u001b[34mdata\u001b[39m(geometry, initial_value=\u001b[38;5;28;01mNone\u001b[39;00m):\n",
      "\u001b[36mFile \u001b[39m\u001b[32m~/miniconda3/envs/lion_pip_2/lib/python3.12/site-packages/astra/__init__.py:26\u001b[39m\n\u001b[32m      1\u001b[39m \u001b[38;5;66;03m# -----------------------------------------------------------------------\u001b[39;00m\n\u001b[32m      2\u001b[39m \u001b[38;5;66;03m# Copyright: 2010-2022, imec Vision Lab, University of Antwerp\u001b[39;00m\n\u001b[32m      3\u001b[39m \u001b[38;5;66;03m#            2013-2022, CWI, Amsterdam\u001b[39;00m\n\u001b[32m   (...)\u001b[39m\u001b[32m     23\u001b[39m \u001b[38;5;66;03m#\u001b[39;00m\n\u001b[32m     24\u001b[39m \u001b[38;5;66;03m# -----------------------------------------------------------------------\u001b[39;00m\n\u001b[32m---> \u001b[39m\u001b[32m26\u001b[39m \u001b[38;5;28;01mfrom\u001b[39;00m\u001b[38;5;250m \u001b[39m\u001b[34;01m.\u001b[39;00m\u001b[38;5;250m \u001b[39m\u001b[38;5;28;01mimport\u001b[39;00m matlab \u001b[38;5;28;01mas\u001b[39;00m m\n\u001b[32m     27\u001b[39m \u001b[38;5;28;01mfrom\u001b[39;00m\u001b[38;5;250m \u001b[39m\u001b[34;01m.\u001b[39;00m\u001b[34;01mcreators\u001b[39;00m\u001b[38;5;250m \u001b[39m\u001b[38;5;28;01mimport\u001b[39;00m astra_dict,create_vol_geom, create_proj_geom, create_backprojection, create_sino, create_reconstruction, create_projector,create_sino3d_gpu, create_backprojection3d_gpu\n\u001b[32m     28\u001b[39m \u001b[38;5;28;01mfrom\u001b[39;00m\u001b[38;5;250m \u001b[39m\u001b[34;01m.\u001b[39;00m\u001b[34;01mfunctions\u001b[39;00m\u001b[38;5;250m \u001b[39m\u001b[38;5;28;01mimport\u001b[39;00m data_op, add_noise_to_sino, clear, move_vol_geom, geom_size, geom_2vec, geom_postalignment\n",
      "\u001b[36mFile \u001b[39m\u001b[32m~/miniconda3/envs/lion_pip_2/lib/python3.12/site-packages/astra/matlab.py:38\u001b[39m\n\u001b[32m      1\u001b[39m \u001b[38;5;66;03m# -----------------------------------------------------------------------\u001b[39;00m\n\u001b[32m      2\u001b[39m \u001b[38;5;66;03m# Copyright: 2010-2022, imec Vision Lab, University of Antwerp\u001b[39;00m\n\u001b[32m      3\u001b[39m \u001b[38;5;66;03m#            2013-2022, CWI, Amsterdam\u001b[39;00m\n\u001b[32m   (...)\u001b[39m\u001b[32m     23\u001b[39m \u001b[38;5;66;03m#\u001b[39;00m\n\u001b[32m     24\u001b[39m \u001b[38;5;66;03m# -----------------------------------------------------------------------\u001b[39;00m\n\u001b[32m     26\u001b[39m \u001b[33;03m\"\"\"This module implements a MATLAB-like interface to the ASTRA Toolbox.\u001b[39;00m\n\u001b[32m     27\u001b[39m \n\u001b[32m     28\u001b[39m \u001b[33;03mNote that all functions are called with a :class:`string` as the first\u001b[39;00m\n\u001b[32m   (...)\u001b[39m\u001b[32m     35\u001b[39m \n\u001b[32m     36\u001b[39m \u001b[33;03m\"\"\"\u001b[39;00m\n\u001b[32m---> \u001b[39m\u001b[32m38\u001b[39m \u001b[38;5;28;01mfrom\u001b[39;00m\u001b[38;5;250m \u001b[39m\u001b[34;01m.\u001b[39;00m\u001b[38;5;250m \u001b[39m\u001b[38;5;28;01mimport\u001b[39;00m astra_c\n\u001b[32m     39\u001b[39m \u001b[38;5;28;01mfrom\u001b[39;00m\u001b[38;5;250m \u001b[39m\u001b[34;01m.\u001b[39;00m\u001b[38;5;250m \u001b[39m\u001b[38;5;28;01mimport\u001b[39;00m data2d_c\n\u001b[32m     40\u001b[39m \u001b[38;5;28;01mfrom\u001b[39;00m\u001b[38;5;250m \u001b[39m\u001b[34;01m.\u001b[39;00m\u001b[38;5;250m \u001b[39m\u001b[38;5;28;01mimport\u001b[39;00m data3d_c\n",
      "\u001b[31mImportError\u001b[39m: libcudart.so.12: cannot open shared object file: No such file or directory"
     ]
    }
   ],
   "source": [
    "from tomosipo.torch_support import to_autograd\n",
    "import torch\n",
    "\n",
    "from LION.CTtools.ct_geometry import Geometry\n",
    "from LION.CTtools.ct_utils import make_operator\n",
    "\n",
    "operator = make_operator(geometry=Geometry.default_parameters())\n",
    "print(f\"Type of original operator: {type(operator)}\")\n",
    "\n",
    "autograd_operator = to_autograd(operator)\n",
    "print(f\"Type of autograd operator: {type(autograd_operator)}\")\n",
    "\n",
    "channels = 1\n",
    "height = 512\n",
    "width = 512\n",
    "input_tensor = torch.randn(channels, height, width, requires_grad=True)\n",
    "output_tensor: torch.Tensor = autograd_operator(input_tensor)\n",
    "print(\"Output tensor shape:\", output_tensor.shape)\n",
    "print(\"Gradient of input tensor is None before calling backward:\", input_tensor.grad is None)\n",
    "output_tensor.mean().backward()\n",
    "print(\"Input tensor gradient shape:\", input_tensor.grad.shape)\n",
    "print(\"Autograd operator works correctly.\")"
   ]
  },
  {
   "cell_type": "code",
   "execution_count": 1,
   "metadata": {},
   "outputs": [
    {
     "ename": "NameError",
     "evalue": "name 'torch' is not defined",
     "output_type": "error",
     "traceback": [
      "\u001b[31m---------------------------------------------------------------------------\u001b[39m",
      "\u001b[31mNameError\u001b[39m                                 Traceback (most recent call last)",
      "\u001b[36mCell\u001b[39m\u001b[36m \u001b[39m\u001b[32mIn[1]\u001b[39m\u001b[32m, line 1\u001b[39m\n\u001b[32m----> \u001b[39m\u001b[32m1\u001b[39m input_tensor = \u001b[43mtorch\u001b[49m.randn(channels, height, width, requires_grad=\u001b[38;5;28;01mTrue\u001b[39;00m)\n\u001b[32m      2\u001b[39m output_tensor: torch.Tensor = operator(input_tensor)\n\u001b[32m      3\u001b[39m \u001b[38;5;28mprint\u001b[39m(\u001b[33m\"\u001b[39m\u001b[33mOutput tensor shape:\u001b[39m\u001b[33m\"\u001b[39m, output_tensor.shape)\n",
      "\u001b[31mNameError\u001b[39m: name 'torch' is not defined"
     ]
    }
   ],
   "source": [
    "input_tensor = torch.randn(channels, height, width, requires_grad=True)\n",
    "output_tensor: torch.Tensor = operator(input_tensor)\n",
    "print(\"Output tensor shape:\", output_tensor.shape)\n",
    "print(\"Gradient of input tensor is None before calling backward:\", input_tensor.grad is None)\n",
    "output_tensor.mean().backward()  # Expect error here: `RuntimeError: element 0 of tensors does not require grad and does not have a grad_fn`"
   ]
  }
 ],
 "metadata": {
  "kernelspec": {
   "display_name": "lion_pip_2",
   "language": "python",
   "name": "python3"
  },
  "language_info": {
   "codemirror_mode": {
    "name": "ipython",
    "version": 3
   },
   "file_extension": ".py",
   "mimetype": "text/x-python",
   "name": "python",
   "nbconvert_exporter": "python",
   "pygments_lexer": "ipython3",
   "version": "3.12.12"
  }
 },
 "nbformat": 4,
 "nbformat_minor": 2
}
